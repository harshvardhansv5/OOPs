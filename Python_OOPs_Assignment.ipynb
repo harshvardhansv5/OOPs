{
  "nbformat": 4,
  "nbformat_minor": 0,
  "metadata": {
    "colab": {
      "provenance": []
    },
    "kernelspec": {
      "name": "python3",
      "display_name": "Python 3"
    },
    "language_info": {
      "name": "python"
    }
  },
  "cells": [
    {
      "cell_type": "markdown",
      "source": [
        "**What is Object-Oriented Programming (OOP)?**\n",
        "- Object-oriented programming (OOP) is a programming paradigm based on the concept of ***objects***. The object contains both **data and code**: Data in the form of properties (often known as attributes), and code, in the form of methods (actions object can perform).\n",
        "\n",
        "- An object-oriented paradigm is to design the program using classes and objects. Python programming language supports different programming approaches like functional programming, modular programming. One of the popular approaches is object-oriented programming (OOP) to solve a programming problem is by creating objects\n",
        "\n",
        "An object has the following two characteristics:\n",
        "- **Attribute**\n",
        "- **Behavior**\n",
        "\n",
        "For instance, a car can be considered an object, as it possesses certain attributes like name, price, and color, along with behaviors such as braking and accelerating.\n",
        "\n",
        "A key feature of Object-Oriented Programming (OOP) in Python is the ability to create reusable code through inheritance. This principle aligns with the DRY (Don't Repeat Yourself) approach.\n"
      ],
      "metadata": {
        "id": "gCeOhJi-p5En"
      }
    },
    {
      "cell_type": "markdown",
      "source": [
        "**What is a class in OOP?**\n",
        "- In Python, everything is an object. **A class serves as a blueprint for creating objects.** To create an object, we need a model, plan, or blueprint, which is essentially a class.   \n",
        "\n",
        "- For example, consider creating a vehicle based on a Vehicle blueprint (template). This blueprint includes all the necessary dimensions and structure. Using these details, we can build a car, truck, bus, or any other type of vehicle. Here, the car, truck, and bus are objects of the Vehicle class.\n",
        "\n",
        "- A class contains the properties (attribute) and action (behavior) of the object. Properties represent variables, and the methods represent actions. Hence class includes both variables and methods."
      ],
      "metadata": {
        "id": "v8ivVOXKsYm_"
      }
    },
    {
      "cell_type": "markdown",
      "source": [
        "**What is an object in OOP?**\n",
        "- Object is an instance of a class. The physical existence of a class is nothing but an object. In other words, the object is an entity that has a state and behavior. It may be any real-world object like the mouse, keyboard, laptop, etc.\n",
        "---\n",
        "An Example of Class and Objects in Real Life\n",
        "\n",
        "**Class**: `Person`  \n",
        "- **State (Attributes)**:  \n",
        "  - Name  \n",
        "  - Sex  \n",
        "  - Profession  \n",
        "- **Behavior (Methods)**:  \n",
        "  - Working  \n",
        "  - Study  \n",
        "\n",
        "Using the `Person` class, we can create multiple objects with unique states and behaviors.\n",
        "\n",
        "---\n",
        "\n",
        "**Object 1**: *Jessa*  \n",
        "- **State**:  \n",
        "  - Name: Jessa  \n",
        "  - Sex: Female  \n",
        "  - Profession: Software Engineer  \n",
        "- **Behavior**:  \n",
        "  - Working: She is working as a software developer at ABC Company.  \n",
        "  - Study: She studies 2 hours a day.  \n",
        "\n",
        "---\n",
        "\n",
        "**Object 2**: *Jon*  \n",
        "- **State**:  \n",
        "  - Name: Jon  \n",
        "  - Sex: Male  \n",
        "  - Profession: Doctor  \n",
        "- **Behavior**:  \n",
        "  - Working: He is working as a doctor.  \n",
        "  - Study: He studies 5 hours a day.  \n",
        "\n",
        "---\n",
        "\n",
        "As shown in this example, Jessa is a female software engineer, while Jon is a male doctor. Both are objects of the same `Person` class, but they have distinct states (attributes) and behaviors (methods). This illustrates how classes serve as blueprints for creating unique objects."
      ],
      "metadata": {
        "id": "mBl_pncxuSXw"
      }
    },
    {
      "cell_type": "markdown",
      "source": [
        "**What is the difference between abstraction and encapsulation?**\n",
        "- **Abstraction** focuses on *hiding unnecessary details*, emphasizing the essential characteristics of an object or system. It provides a high-level view and simplifies complexity.\n",
        "\n",
        "- **Encapsulation** focuses on bundling data and methods within a class, *restricting direct access to the internal state of an object*. It ensures data protection and enables controlled access to the object's attributes."
      ],
      "metadata": {
        "id": "Xseyi4FLv-5I"
      }
    },
    {
      "cell_type": "markdown",
      "source": [
        "**What are dunder methods in Python?**\n",
        "- Python dunder methods are the special predefined methods having two prefixes and two suffix underscores in the method name. Here, the word dunder means double under (underscore). These special dunder methods are used in case of operator overloading ( they provide extended meaning beyond the predefined meaning to an operator). Some of the examples of most common dunder methods in use are __int__,__new__, __add__, __len__, and __str__ method.\n",
        "\n",
        "- Python dunder methods can be easily understood by visualizing a contract between your implementation and the Python interpreter. One of the main terms of the contract involves Python performing some actions behind the scenes under some given circumstances.\n",
        "\n",
        "- These Python dunder methods are invoked internally from the class based on a certain condition or action. Like, when you add two numbers using the + operator, then the __add__ dunder method will be invoked, and the __init__ method will be invoked when an instance of a class is created and it behaves in the same way like the constructors behave in certain other programming languages such as C++, Java, C#, PHP, etc.\n",
        "\n",
        "\n",
        "```\n",
        "class Person:\n",
        "    def __init__(self, name, age):\n",
        "        self.name = name\n",
        "        self.age = age\n",
        "\n",
        "    def __str__(self):\n",
        "        return f\"{self.name} is {self.age} years old.\"\n",
        "\n",
        "    def __add__(self, other):\n",
        "        return self.age + other.age\n",
        "\n",
        "# Create instances\n",
        "person1 = Person(\"Alice\", 30)\n",
        "person2 = Person(\"Bob\", 25)\n",
        "\n",
        "# Using __str__\n",
        "print(person1)  # Output: Alice is 30 years old.\n",
        "print(person2)  # Output: Bob is 25 years old.\n",
        "\n",
        "# Using __add__\n",
        "combined_age = person1 + person2\n",
        "print(f\"The combined age is {combined_age}.\")  # Output: The combined age is 55.\n",
        "```\n"
      ],
      "metadata": {
        "id": "doY6vKle0rCq"
      }
    },
    {
      "cell_type": "markdown",
      "source": [
        "**Explain the concept of inheritance in OOP.**\n",
        "- Inheritance is a fundamental concept in object-oriented programming (OOP) that allows a class (called a child or derived class) to inherit attributes and methods from another class (called a parent or base class). This promotes code reuse, modularity, and a hierarchical class structure.\n",
        "\n",
        "```\n",
        "# Base class\n",
        "class Animal:\n",
        "    def __init__(self, name):\n",
        "        self.name = name\n",
        "\n",
        "    def speak(self):\n",
        "        return f\"{self.name} makes a sound.\"\n",
        "\n",
        "# Derived class\n",
        "class Dog(Animal):\n",
        "    def speak(self):\n",
        "        return f\"{self.name} barks.\"\n",
        "\n",
        "# Derived class\n",
        "class Cat(Animal):\n",
        "    def speak(self):\n",
        "        return f\"{self.name} meows.\"\n",
        "\n",
        "# Create instances\n",
        "dog = Dog(\"Buddy\")\n",
        "cat = Cat(\"Whiskers\")\n",
        "\n",
        "# Call the speak method\n",
        "print(dog.speak())  # Output: Buddy barks.\n",
        "print(cat.speak())  # Output: Whiskers meows.\n",
        "\n",
        "```\n",
        "\n"
      ],
      "metadata": {
        "id": "qip5xPErDVgC"
      }
    },
    {
      "cell_type": "markdown",
      "source": [
        "**What is polymorphism in OOP?**\n",
        "- The word \"polymorphism\" means \"many forms\", and in programming it refers to methods/functions/operators with the same name that can be executed on many objects or classes.\n",
        "- Polymorphism may be used in Python in various ways. Polymorphism can be defined using numerous functions, class methods, and objects.\n",
        "\n",
        "```\n",
        "class Animal:\n",
        "    def speak(self):\n",
        "        return \"Animal makes a sound.\"\n",
        "\n",
        "class Dog(Animal):\n",
        "    def speak(self):\n",
        "        return \"Dog barks.\"\n",
        "\n",
        "class Cat(Animal):\n",
        "    def speak(self):\n",
        "        return \"Cat meows.\"\n",
        "\n",
        "# Polymorphism in action\n",
        "def animal_sound(animal):\n",
        "    print(animal.speak())\n",
        "\n",
        "# Instances\n",
        "dog = Dog()\n",
        "cat = Cat()\n",
        "\n",
        "# Using the same function with different types of objects\n",
        "animal_sound(dog)  # Output: Dog barks.\n",
        "animal_sound(cat)  # Output: Cat meows.\n",
        "\n",
        "```\n",
        "\n",
        "\n"
      ],
      "metadata": {
        "id": "JMrB6KriMIoj"
      }
    },
    {
      "cell_type": "markdown",
      "source": [
        "**How is encapsulation achieved in Python?**\n",
        "- Encapsulation in Python is achieved through the use of classes, which allow bundling data (attributes) and methods (functions) into a single unit. It also involves restricting direct access to some components of an object to prevent unintended interference or misuse.\n",
        "\n",
        "Python provides mechanisms for encapsulation using:\n",
        "1. **Public attributes and methods**: Accessible from anywhere.\n",
        "2. **Protected attributes and methods**: Indicated by a single underscore (_) and are meant to be accessed within the class or its subclasses (not enforced, just a convention).\n",
        "3. **Private attributes and methods**: Indicated by a double underscore (__) and are not directly accessible outside the class (Python \"name-mangles\" these attributes).\n",
        "\n",
        "### Example:\n",
        "```python\n",
        "class BankAccount:\n",
        "    def __init__(self, account_holder, initial_balance):\n",
        "        self.account_holder = account_holder  # Public attribute\n",
        "        self._balance = initial_balance      # Protected attribute\n",
        "        self.__pin = \"1234\"                  # Private attribute\n",
        "\n",
        "    def deposit(self, amount):\n",
        "        \"\"\"Public method to add money to the account.\"\"\"\n",
        "        if amount > 0:\n",
        "            self._balance += amount\n",
        "            print(f\"Deposited ${amount}. New balance: ${self._balance}\")\n",
        "        else:\n",
        "            print(\"Deposit amount must be positive.\")\n",
        "\n",
        "    def withdraw(self, amount, pin):\n",
        "        \"\"\"Public method to withdraw money with PIN verification.\"\"\"\n",
        "        if pin == self.__pin:\n",
        "            if 0 < amount <= self._balance:\n",
        "                self._balance -= amount\n",
        "                print(f\"Withdrew ${amount}. Remaining balance: ${self._balance}\")\n",
        "            else:\n",
        "                print(\"Insufficient funds or invalid amount.\")\n",
        "        else:\n",
        "            print(\"Invalid PIN. Access denied.\")\n",
        "\n",
        "# Usage\n",
        "account = BankAccount(\"Alice\", 1000)\n",
        "\n",
        "# Accessing public attribute\n",
        "print(account.account_holder)  # Output: Alice\n",
        "\n",
        "# Using public method\n",
        "account.deposit(200)           # Output: Deposited $200. New balance: $1200\n",
        "\n",
        "# Attempting to access protected and private attributes\n",
        "print(account._balance)        # Accessible but not recommended\n",
        "# print(account.__pin)         # AttributeError: 'BankAccount' object has no attribute '__pin'\n",
        "\n",
        "# Access private attribute using name mangling (not recommended)\n",
        "print(account._BankAccount__pin)  # Output: 1234\n",
        "```\n"
      ],
      "metadata": {
        "id": "PXuzwAGyQhtV"
      }
    },
    {
      "cell_type": "markdown",
      "source": [
        "**What is a constructor in Python?**\n",
        "\n",
        "- A **constructor** in Python is a special method used to initialize the attributes of an object when it is created. The constructor is defined using the `__init__` method within a class. It is automatically called when you create an instance of the class.\n",
        "\n",
        "###Example:\n",
        "```python\n",
        "class Person:\n",
        "    def __init__(self, name, age):\n",
        "        # Constructor initializes the object's attributes\n",
        "        self.name = name\n",
        "        self.age = age\n",
        "\n",
        "# Creating an object of the class Person\n",
        "person1 = Person(\"Alice\", 25)\n",
        "\n",
        "# Accessing the attributes\n",
        "print(person1.name)  # Output: Alice\n",
        "print(person1.age)   # Output: 25\n",
        "```"
      ],
      "metadata": {
        "id": "lSCR86ekO3u9"
      }
    },
    {
      "cell_type": "markdown",
      "source": [
        "**What are class and static methods in Python?**\n",
        "### Class Methods:\n",
        "- Class methods are methods that are bound to the class, not the instance.\n",
        "- They can modify class state, not instance state.\n",
        "- Use the `@classmethod` decorator.\n",
        "- The first parameter is `cls` (reference to the class).\n",
        "\n",
        "### Static Methods:\n",
        "- Static methods don't access or modify class or instance attributes.\n",
        "- They are utility methods that belong to the class.\n",
        "- Use the `@staticmethod` decorator.\n",
        "- They don't take `self` or `cls` as a parameter.\n",
        "\n",
        "### Example:\n",
        "\n",
        "```python\n",
        "class Example:\n",
        "    class_variable = \"I am a class variable\"\n",
        "\n",
        "    @classmethod\n",
        "    def class_method(cls):\n",
        "        return f\"Accessed from class method: {cls.class_variable}\"\n",
        "\n",
        "    @staticmethod\n",
        "    def static_method():\n",
        "        return \"I am a static method, no class or instance needed\"\n",
        "\n",
        "# Using the methods\n",
        "print(Example.class_method())  # Access class variable\n",
        "print(Example.static_method())  # Standalone utility\n",
        "```\n",
        "\n",
        "Output:\n",
        "```\n",
        "Accessed from class method: I am a class variable\n",
        "I am a static method, no class or instance needed\n",
        "```"
      ],
      "metadata": {
        "id": "zO7_HIE8WGLl"
      }
    },
    {
      "cell_type": "markdown",
      "source": [
        "**What is method overloading in Python?**\n",
        "- Two or more methods have the same name but different numbers of parameters or different types of parameters, or both. These methods are called overloaded methods and this is called method overloading.  \n",
        "\n",
        "```\n",
        "class MathOperations:\n",
        "    def add(self, a, b=None, c=None):\n",
        "        if b is not None and c is not None:\n",
        "            return a + b + c\n",
        "        elif b is not None:\n",
        "            return a + b\n",
        "        else:\n",
        "            return a\n",
        "\n",
        "# Example Usage\n",
        "math_obj = MathOperations()\n",
        "result1 = math_obj.add(5)\n",
        "result2 = math_obj.add(5, 10)\n",
        "result3 = math_obj.add(5, 10, 15)\n",
        "\n",
        "# Output\n",
        "print(result1)\n",
        "print(result2)\n",
        "print(result3)\n",
        "```\n",
        "```\n",
        "Output\n",
        "5\n",
        "15\n",
        "30\n",
        "```\n",
        "\n"
      ],
      "metadata": {
        "id": "Dyk-phNFW987"
      }
    },
    {
      "cell_type": "markdown",
      "source": [
        "**What is method overriding in OOP?**\n",
        "- Method overriding is an ability of any object-oriented programming language that allows a subclass or child class to provide a specific implementation of a method that is already provided by one of its super-classes or parent classes. When a method in a subclass has the same name, the same parameters or signature, and same return type(or sub-type) as a method in its super-class, then the method in the subclass is said to override the method in the super-class.\n",
        "\n",
        "\n",
        "```\n",
        "\n",
        "# Defining parent class\n",
        "class Parent():\n",
        "    \n",
        "    # Constructor\n",
        "    def __init__(self):\n",
        "        self.value = \"Inside Parent\"\n",
        "        \n",
        "    # Parent's show method\n",
        "    def show(self):\n",
        "        print(self.value)\n",
        "        \n",
        "# Defining child class\n",
        "class Child(Parent):\n",
        "    \n",
        "    # Constructor\n",
        "    def __init__(self):\n",
        "        super().__init__()  # Call parent constructor\n",
        "        self.value = \"Inside Child\"\n",
        "        \n",
        "    # Child's show method\n",
        "    def show(self):\n",
        "        print(self.value)\n",
        "        \n",
        "# Driver's code\n",
        "obj1 = Parent()\n",
        "obj2 = Child()\n",
        "\n",
        "obj1.show()  # Should print \"Inside Parent\"\n",
        "obj2.show()  # Should print \"Inside Child\"\n",
        "```\n",
        "```\n",
        "Output:\n",
        "Inside Parent\n",
        "Inside Child\n",
        "```\n"
      ],
      "metadata": {
        "id": "rdG_Qh_VGrqn"
      }
    },
    {
      "cell_type": "markdown",
      "source": [
        "**What is a property decorator in Python?**\n",
        "- The @property decorator in Python is a built-in decorator that allows you to define methods that can be accessed like attributes. It provides a clean, Pythonic way to define getters, setters, and deleters for managing the internal state of an object while abstracting the implementation details.\n",
        "\n",
        "- Instead of manually using the property() function, the @property decorator simplifies the process by allowing you to use getter, setter, and deleter methods with a cleaner syntax.\n",
        "\n",
        "Here’s an example:\n",
        "\n",
        "\n",
        "```\n",
        "class Circle:\n",
        "    def __init__(self, radius):\n",
        "        self._radius = radius\n",
        "\n",
        "    @property\n",
        "    def radius(self):\n",
        "        return self._radius\n",
        "\n",
        "    @radius.setter\n",
        "    def radius(self, value):\n",
        "        if value < 0:\n",
        "            raise ValueError(\"Radius cannot be negative.\")\n",
        "        self._radius = value\n",
        "\n",
        "    @radius.deleter\n",
        "    def radius(self):\n",
        "        print(\"Deleting radius...\")\n",
        "        del self._radius\n",
        "\n",
        "# Usage\n",
        "c = Circle(5)\n",
        "print(c.radius)  # Access like an attribute\n",
        "c.radius = 10    # Set a new value\n",
        "del c.radius     # Delete the attribute\n",
        "```\n",
        "\n",
        "\n",
        "\n"
      ],
      "metadata": {
        "id": "SKDC5ACgLDqg"
      }
    },
    {
      "cell_type": "markdown",
      "source": [
        "**Why is polymorphism important in OOP?**\n",
        "- Polymorphism is a fundamental principle of object-oriented programming (OOP) that allows entities such as methods, variables, or objects to take on multiple forms. It enables a single interface to be used for different data types, making code more flexible, reusable, and easier to extend.\n",
        "\n",
        "For example, polymorphism allows you to use the same method name in a parent class and override it in a child class to achieve behavior specific to the child class. It also allows methods to handle objects of different types in a uniform way (e.g., using method overriding or interfaces).\n",
        "\n",
        "There are two main types of polymorphism in OOP:\n",
        "1. **Compile-time Polymorphism** (e.g., method overloading): Achieved during code compilation, where methods with the same name have different parameter types or counts.\n",
        "2. **Run-time Polymorphism** (e.g., method overriding): Achieved during program execution, where a child class overrides a method of its parent class.\n",
        "\n",
        "Why Polymorphism is Important:\n",
        "- **Flexibility**: It allows the design of systems that can work with new or changing requirements without modifying existing code.\n",
        "- **Code Reusability**: Common behaviors can be implemented once in a base class and reused or customized in derived classes.\n",
        "- **Extensibility**: New classes can be added easily without breaking existing code.\n",
        "- **Simplified Code Management**: Polymorphism reduces the need for complex conditional statements by letting you rely on dynamic method calls.\n",
        "\n",
        "Here’s an example:\n",
        "\n",
        "```python\n",
        "class Animal:\n",
        "    def sound(self):\n",
        "        pass\n",
        "\n",
        "class Dog(Animal):\n",
        "    def sound(self):\n",
        "        return \"Bark\"\n",
        "\n",
        "class Cat(Animal):\n",
        "    def sound(self):\n",
        "        return \"Meow\"\n",
        "\n",
        "# Polymorphism in action\n",
        "def make_sound(animal):\n",
        "    print(animal.sound())\n",
        "\n",
        "dog = Dog()\n",
        "cat = Cat()\n",
        "\n",
        "make_sound(dog)  # Output: Bark\n",
        "make_sound(cat)  # Output: Meow\n",
        "```\n",
        "\n",
        "In this example, the same method (`sound()`) behaves differently depending on the object passed to it. This is the essence of polymorphism—using a single interface to represent multiple forms, making the code adaptable and scalable."
      ],
      "metadata": {
        "id": "elNoGs_D7zdS"
      }
    },
    {
      "cell_type": "markdown",
      "source": [
        "**What is an abstract class in Python?**\n",
        "- An **abstract class** in Python is a class that cannot be instantiated and is designed to be a blueprint for other classes. It is defined using the `ABC` (Abstract Base Class) module and can include abstract methods (methods without implementation) that must be implemented in derived classes.\n",
        "\n",
        "### Key Points:\n",
        "- Abstract classes are created using `ABC` from the `abc` module.\n",
        "- Abstract methods are defined using the `@abstractmethod` decorator.\n",
        "- Abstract classes ensure that derived classes implement certain required methods.\n",
        "\n",
        "### Example:\n",
        "```python\n",
        "from abc import ABC, abstractmethod\n",
        "\n",
        "class Animal(ABC):  # Abstract class\n",
        "    @abstractmethod\n",
        "    def sound(self):\n",
        "        pass  # Abstract method\n",
        "\n",
        "class Dog(Animal):  # Concrete class\n",
        "    def sound(self):\n",
        "        return \"Bark\"\n",
        "\n",
        "class Cat(Animal):  # Concrete class\n",
        "    def sound(self):\n",
        "        return \"Meow\"\n",
        "\n",
        "# Usage\n",
        "dog = Dog()\n",
        "cat = Cat()\n",
        "print(dog.sound())  # Output: Bark\n",
        "print(cat.sound())  # Output: Meow\n",
        "```\n",
        "\n",
        "If a class derived from `Animal` doesn’t implement the `sound()` method, it will raise a `TypeError`, ensuring the abstract method is implemented."
      ],
      "metadata": {
        "id": "8A7FMeag8iBS"
      }
    },
    {
      "cell_type": "markdown",
      "source": [
        "**What are the advantages of OOP?**\n",
        "- Object-Oriented Programming (OOP) is a programming paradigm based on the concepts of classes and objects. It focuses on encapsulating data and behavior into objects while promoting modularity, code reuse, and maintainability. The four core principles of OOP are Abstraction, Encapsulation, Inheritance, and Polymorphism.\n",
        "\n",
        "Some popular object-oriented programming languages include Python, Java, C++, and C#. Below are the key advantages of OOP:\n",
        "\n",
        "***Key Benefits of OOP:***\n",
        "- **Modularity and Code Reusability**:\n",
        "Programs are built using reusable classes and objects, reducing the need to write code from scratch.\n",
        "Inheritance eliminates redundant code and allows the extension of existing classes.\n",
        "\n",
        "- **Easier Problem-Solving**:\n",
        "Complex problems can be broken down into smaller, manageable objects, making the design and implementation process simpler.\n",
        "- **Improved Productivity**:\n",
        "OOP promotes faster development by enabling the reuse of existing modules and components.\n",
        "- **Scalability and Maintainability**: Object-oriented systems can be easily upgraded from small to large-scale systems without significant changes to the existing codebase.\n",
        "Modularity ensures that changes in one part of the system have minimal impact on others.\n",
        "- **Enhanced Security**: Encapsulation hides internal details, restricting access to sensitive data and reducing the risk of accidental interference or misuse.\n",
        "- **Parallel Development**: Teams can work on different objects simultaneously, allowing for better collaboration and faster project completion.\n",
        "- **Better Real-World Mapping**: Objects in OOP often map directly to real-world entities, making designs intuitive and easier to understand.\n",
        "- **Simplified Communication**: Objects communicate via message-passing techniques, simplifying interfaces between components or external systems.\n",
        "\n",
        "```\n",
        "class Vehicle:\n",
        "    def __init__(self, name, speed):\n",
        "        self.name = name\n",
        "        self.speed = speed\n",
        "\n",
        "    def move(self):\n",
        "        return f\"{self.name} is moving at {self.speed} km/h.\"\n",
        "\n",
        "class Car(Vehicle):  # Inherits from Vehicle\n",
        "    def __init__(self, name, speed, doors):\n",
        "        super().__init__(name, speed)\n",
        "        self.doors = doors\n",
        "\n",
        "    def move(self):\n",
        "        return f\"The car {self.name} with {self.doors} doors is moving at {self.speed} km/h.\"\n",
        "\n",
        "# Usage\n",
        "car = Car(\"Sedan\", 120, 4)\n",
        "print(car.move())  # Output: The car Sedan with 4 doors is moving at 120 km/h.\n",
        "\n",
        "```\n"
      ],
      "metadata": {
        "id": "qlrTotc79i2D"
      }
    },
    {
      "cell_type": "markdown",
      "source": [
        "What is the difference between a class variable and an instance variable?<br><br>\n",
        "**Class Variable:**\n",
        "- Shared across all instances of a class.\n",
        "- Defined at the class level, outside methods.\n",
        "- Accessible via the class name or an instance.\n",
        "- Changes affect all instances.\n",
        "- Example use: Shared properties like constants.\n",
        "\n",
        "**Instance Variable:**\n",
        "- Unique to each instance of a class.\n",
        "- Defined inside methods, typically in the __init__ constructor using self.\n",
        "- Accessible only via the instance.\n",
        "- Changes affect only the specific instance.\n",
        "- Example use: Instance-specific attributes."
      ],
      "metadata": {
        "id": "lWMTHwdnC7Cm"
      }
    },
    {
      "cell_type": "markdown",
      "source": [
        "**What is multiple inheritance in Python?**\n",
        "- A class can be derived from more than one superclass in Python. This is called multiple inheritance.\n",
        "\n",
        "For example, a class Bat is derived from superclasses Mammal and WingedAnimal. It makes sense because bat is a mammal as well as a winged animal.\n",
        "\n",
        "**Python Multiple Inheritance Syntax** -\n",
        "\n",
        "```\n",
        "class SuperClass1:\n",
        "    # features of SuperClass1\n",
        "\n",
        "class SuperClass2:\n",
        "    # features of SuperClass2\n",
        "\n",
        "class MultiDerived(SuperClass1, SuperClass2):\n",
        "    # features of SuperClass1 + SuperClass2 + MultiDerived class\n",
        "```\n",
        "Example: Python Multiple Inheritance\n",
        "```\n",
        "class Mammal:\n",
        "    def mammal_info(self):\n",
        "        print(\"Mammals can give direct birth.\")\n",
        "\n",
        "class WingedAnimal:\n",
        "    def winged_animal_info(self):\n",
        "        print(\"Winged animals can flap.\")\n",
        "\n",
        "class Bat(Mammal, WingedAnimal):\n",
        "    pass\n",
        "\n",
        "# create an object of Bat class\n",
        "b1 = Bat()\n",
        "\n",
        "b1.mammal_info()\n",
        "b1.winged_animal_info()\n",
        "```\n",
        "Output :\n",
        "```\n",
        "Mammals can give direct birth.\n",
        "Winged animals can flap.\n",
        "```\n",
        "\n",
        "\n"
      ],
      "metadata": {
        "id": "gJ_Vz6WtQqVu"
      }
    },
    {
      "cell_type": "markdown",
      "source": [
        "**Explain the purpose of `__str__` and `__repr__` methods in Python**\n",
        "- The `__str__` and `__repr__` methods in Python are special methods used to define how an object is represented as a string. They are particularly useful for debugging, logging, and displaying objects in a user-friendly manner. Here's the difference:\n",
        "\n",
        "**`__repr__`: Developer-Friendly Representation**\n",
        "- Purpose: Provides an **unambiguous representation** of the object, mainly for developers.\n",
        "- Goal: Should ideally return a string that, when passed to `eval()`, recreates the object.\n",
        "- Example:\n",
        "    ```python\n",
        "    class Person:\n",
        "        def __init__(self, name, age):\n",
        "            self.name = name\n",
        "            self.age = age\n",
        "\n",
        "        def __repr__(self):\n",
        "            return f\"Person(name='{self.name}', age={self.age})\"\n",
        "\n",
        "    person = Person(\"Alice\", 30)\n",
        "    print(repr(person))  # Output: Person(name='Alice', age=30)\n",
        "    ```\n",
        "\n",
        "**`__str__`: User-Friendly Representation**\n",
        "- Purpose: Provides a **readable or human-friendly string representation** of the object.\n",
        "- Goal: Suitable for end-users or when printing objects.\n",
        "- Example:\n",
        "    ```python\n",
        "    class Person:\n",
        "        def __init__(self, name, age):\n",
        "            self.name = name\n",
        "            self.age = age\n",
        "\n",
        "        def __str__(self):\n",
        "            return f\"{self.name}, {self.age} years old\"\n",
        "\n",
        "    person = Person(\"Alice\", 30)\n",
        "    print(str(person))  # Output: Alice, 30 years old\n",
        "    ```\n",
        "\n",
        "### Key Differences:\n",
        "- `__repr__` is for developers, while `__str__` is for end-users.\n",
        "- If only `__repr__` is defined, `str()` falls back to it.\n",
        "- If neither is defined, the default is `<ClassName object at memory_address>`.\n",
        "\n",
        "### Combined Example:\n",
        "```python\n",
        "class Person:\n",
        "    def __init__(self, name, age):\n",
        "        self.name = name\n",
        "        self.age = age\n",
        "\n",
        "    def __repr__(self):\n",
        "        return f\"Person(name='{self.name}', age={self.age})\"\n",
        "\n",
        "    def __str__(self):\n",
        "        return f\"{self.name} ({self.age})\"\n",
        "\n",
        "person = Person(\"Alice\", 30)\n",
        "print(repr(person))  # Developer: Person(name='Alice', age=30)\n",
        "print(str(person))   # User: Alice (30)\n",
        "```\n"
      ],
      "metadata": {
        "id": "rvI7bLB_TAJU"
      }
    },
    {
      "cell_type": "markdown",
      "source": [
        "**What is the significance of the super() function in Python?**<br><br>\n",
        "**Significance of the super() Function in Python**\n",
        "- The super() function allows you to call a method from the parent class in a subclass, ensuring that the correct version of a method is called in a multiple inheritance scenario.\n",
        "\n",
        "```\n",
        "class Parent:\n",
        "    def greet(self):\n",
        "        print(\"Hello from Parent\")\n",
        "\n",
        "class Child(Parent):\n",
        "    def greet(self):\n",
        "        super().greet()  # Call the parent class method\n",
        "        print(\"Hello from Child\")\n",
        "\n",
        "child = Child()\n",
        "child.greet()\n",
        "```\n",
        "Output :\n",
        "```\n",
        "Hello from Parent  \n",
        "Hello from Child\n",
        "```\n",
        "\n"
      ],
      "metadata": {
        "id": "MXchC5i9VMG-"
      }
    },
    {
      "cell_type": "markdown",
      "source": [
        "**What is the significance of the __del__ method in Python?**\n",
        "- The __del__ method is a destructor that is called when an object is about to be destroyed. It is typically used to release resources like files or network connections.\n",
        "\n",
        "*Example:*\n",
        "```\n",
        "class Resource:\n",
        "    def __init__(self, name):\n",
        "        self.name = name\n",
        "        print(f\"Resource {self.name} created\")\n",
        "\n",
        "    def __del__(self):\n",
        "        print(f\"Resource {self.name} destroyed\")\n",
        "\n",
        "res = Resource(\"Database Connection\")\n",
        "del res  # Explicitly destroying the object\n",
        "```\n",
        "\n",
        "\n",
        "```\n",
        "Resource Database Connection created  \n",
        "Resource Database Connection destroyed\n",
        "```"
      ],
      "metadata": {
        "id": "vaxIUpWGXHsW"
      }
    },
    {
      "cell_type": "markdown",
      "source": [
        "**What is the difference between @staticmethod and @classmethod in Python?**\n",
        "- @staticmethod: A method that does not access or modify the class state. It behaves like a regular function inside the class.\n",
        "- @classmethod: A method that takes the class (cls) as the first argument and can modify class state.\n",
        "\n",
        "```\n",
        "class Example:\n",
        "    class_var = \"class variable\"\n",
        "\n",
        "    @staticmethod\n",
        "    def static_method():\n",
        "        print(\"This is a static method. No access to class or instance variables.\")\n",
        "\n",
        "    @classmethod\n",
        "    def class_method(cls):\n",
        "        print(f\"This is a class method. Access to {cls.class_var}\")\n",
        "\n",
        "Example.static_method()\n",
        "Example.class_method()\n",
        "\n",
        "```\n",
        "```\n",
        "This is a static method. No access to class or instance variables.  \n",
        "This is a class method. Access to class variable\n",
        "```\n",
        "\n",
        "\n"
      ],
      "metadata": {
        "id": "1eLK1h65X2vl"
      }
    },
    {
      "cell_type": "markdown",
      "source": [
        "**How does polymorphism work in Python with inheritance?**\n",
        "\n",
        "```\n",
        "class Animal:\n",
        "    def speak(self):\n",
        "        pass\n",
        "\n",
        "class Dog(Animal):\n",
        "    def speak(self):\n",
        "        print(\"Bark\")\n",
        "\n",
        "class Cat(Animal):\n",
        "    def speak(self):\n",
        "        print(\"Meow\")\n",
        "\n",
        "def make_sound(animal):\n",
        "    animal.speak()\n",
        "\n",
        "dog = Dog()\n",
        "cat = Cat()\n",
        "\n",
        "make_sound(dog)\n",
        "make_sound(cat)\n",
        "```\n",
        "Output :\n",
        "```\n",
        "Bark  \n",
        "Meow\n",
        "```"
      ],
      "metadata": {
        "id": "Mzd4UwdPZUzu"
      }
    },
    {
      "cell_type": "markdown",
      "source": [
        "**What is method chaining in Python OOP?**\n",
        "- Method chaining allows you to call multiple methods on the same object in a single statement by returning self from each method.\n",
        "\n",
        "```\n",
        "class Person:\n",
        "    def __init__(self, name):\n",
        "        self.name = name\n",
        "\n",
        "    def greet(self):\n",
        "        print(f\"Hello, {self.name}\")\n",
        "        return self  # Returning self for chaining\n",
        "\n",
        "    def say_goodbye(self):\n",
        "        print(f\"Goodbye, {self.name}\")\n",
        "        return self\n",
        "\n",
        "person = Person(\"Alice\")\n",
        "person.greet().say_goodbye()  # Method chaining\n",
        "```\n",
        "Output :\n",
        "```\n",
        "Hello, Alice  \n",
        "Goodbye, Alice\n",
        "```\n"
      ],
      "metadata": {
        "id": "K_d1jICNaSjd"
      }
    },
    {
      "cell_type": "markdown",
      "source": [
        "**What is the purpose of the __call__ method in Python?**\n",
        "- The __call__ method allows an instance of a class to be called as a function.\n",
        "\n",
        "**Example:**\n",
        "```\n",
        "class Multiplier:\n",
        "    def __init__(self, factor):\n",
        "        self.factor = factor\n",
        "\n",
        "    def __call__(self, value):\n",
        "        return value * self.factor\n",
        "\n",
        "double = Multiplier(2)\n",
        "print(double(5))  # Instance behaves like a function\n",
        "```\n",
        "Output :\n",
        "```\n",
        "10\n",
        "```\n",
        "\n",
        "\n"
      ],
      "metadata": {
        "id": "9WK2qbE_bWJ6"
      }
    },
    {
      "cell_type": "code",
      "source": [
        "#Create a parent class Animal with a method speak() that prints a generic message. Create a child class Dog that overrides the speak() method to print \"Bark!\".\n",
        "class Animal:\n",
        "    def speak(self):\n",
        "        print(\"This animal makes a sound.\")\n",
        "\n",
        "class Dog(Animal):\n",
        "    def speak(self):\n",
        "        print(\"Bark!\")\n",
        "\n",
        "# Example usage\n",
        "if __name__ == \"__main__\":\n",
        "    generic_animal = Animal()\n",
        "    generic_animal.speak()  # Output: This animal makes a sound.\n",
        "\n",
        "    dog = Dog()\n",
        "    dog.speak()  # Output: Bark!"
      ],
      "metadata": {
        "colab": {
          "base_uri": "https://localhost:8080/"
        },
        "id": "DLisRdvJgjfe",
        "outputId": "6359bc76-2c57-446b-f344-2cd255f9b97c"
      },
      "execution_count": null,
      "outputs": [
        {
          "output_type": "stream",
          "name": "stdout",
          "text": [
            "This animal makes a sound.\n",
            "Bark!\n"
          ]
        }
      ]
    },
    {
      "cell_type": "code",
      "source": [
        "# Write a program to create an abstract class Shape with a method area(). Derive\n",
        "# classes Circle and Rectangle from it and implement the area() method in both.\n",
        "from abc import ABC, abstractmethod\n",
        "\n",
        "class Shape(ABC):\n",
        "    @abstractmethod\n",
        "    def area(self):\n",
        "        pass\n",
        "\n",
        "class Circle(Shape):\n",
        "    def __init__(self, radius):\n",
        "        self.radius = radius\n",
        "\n",
        "    def area(self):\n",
        "        return 3.14159 * (self.radius ** 2)\n",
        "\n",
        "class Rectangle(Shape):\n",
        "    def __init__(self, width, height):\n",
        "        self.width = width\n",
        "        self.height = height\n",
        "\n",
        "    def area(self):\n",
        "        return self.width * self.height\n",
        "\n",
        "# Example usage\n",
        "if __name__ == \"__main__\":\n",
        "    circle = Circle(5)\n",
        "    print(f\"Area of Circle: {circle.area()}\")  # Output: Area of Circle: 78.53975\n",
        "\n",
        "    rectangle = Rectangle(4, 6)\n",
        "    print(f\"Area of Rectangle: {rectangle.area()}\")  # Output: Area of Rectangle: 24"
      ],
      "metadata": {
        "colab": {
          "base_uri": "https://localhost:8080/"
        },
        "id": "HMQ-U62Fg5zm",
        "outputId": "232dc031-b38b-44ea-95ec-58bd73aaca4b"
      },
      "execution_count": null,
      "outputs": [
        {
          "output_type": "stream",
          "name": "stdout",
          "text": [
            "Area of Circle: 78.53975\n",
            "Area of Rectangle: 24\n"
          ]
        }
      ]
    },
    {
      "cell_type": "code",
      "source": [
        "#Implement a multi-level inheritance scenario where a class Vehicle has an attribute type. Derive a class Car\n",
        "#and further derive a class ElectricCar that adds a battery attribute.\n",
        "class Vehicle:\n",
        "    def __init__(self, vehicle_type):\n",
        "        self.vehicle_type = vehicle_type\n",
        "\n",
        "class Car(Vehicle):\n",
        "    def __init__(self, vehicle_type, brand):\n",
        "        super().__init__(vehicle_type)\n",
        "        self.brand = brand\n",
        "\n",
        "class ElectricCar(Car):\n",
        "    def __init__(self, vehicle_type, brand, battery_capacity):\n",
        "        super().__init__(vehicle_type, brand)\n",
        "        self.battery_capacity = battery_capacity\n",
        "\n",
        "# Example usage\n",
        "if __name__ == \"__main__\":\n",
        "    vehicle = Vehicle(\"General Vehicle\")\n",
        "    print(f\"Vehicle Type: {vehicle.vehicle_type}\")  # Output: Vehicle Type: General Vehicle\n",
        "\n",
        "    car = Car(\"Car\", \"Toyota\")\n",
        "    print(f\"Car Type: {car.vehicle_type}, Brand: {car.brand}\")  # Output: Car Type: Car, Brand: Toyota\n",
        "\n",
        "    electric_car = ElectricCar(\"Electric Car\", \"Tesla\", \"100 kWh\")\n",
        "    print(f\"Electric Car Type: {electric_car.vehicle_type}, Brand: {electric_car.brand}, Battery: {electric_car.battery_capacity}\")\n",
        "    # Output: Electric Car Type: Electric Car, Brand: Tesla, Battery: 100 kWh"
      ],
      "metadata": {
        "colab": {
          "base_uri": "https://localhost:8080/"
        },
        "id": "meCiO43dhsXH",
        "outputId": "6212f1c5-19d3-43c2-ece0-9ef83db5279b"
      },
      "execution_count": null,
      "outputs": [
        {
          "output_type": "stream",
          "name": "stdout",
          "text": [
            "Vehicle Type: General Vehicle\n",
            "Car Type: Car, Brand: Toyota\n",
            "Electric Car Type: Electric Car, Brand: Tesla, Battery: 100 kWh\n"
          ]
        }
      ]
    },
    {
      "cell_type": "code",
      "source": [
        "#Write a program to demonstrate encapsulation by creating a class BankAccount with private attributes\n",
        "#balance and methods to deposit, withdraw, and check balance.\n",
        "class BankAccount:\n",
        "    def __init__(self, initial_balance=0):\n",
        "        self.__balance = initial_balance  # Private attribute\n",
        "\n",
        "    def deposit(self, amount):\n",
        "        if amount > 0:\n",
        "            self.__balance += amount\n",
        "            print(f\"Deposited: {amount}\")\n",
        "        else:\n",
        "            print(\"Invalid deposit amount!\")\n",
        "\n",
        "    def withdraw(self, amount):\n",
        "        if 0 < amount <= self.__balance:\n",
        "            self.__balance -= amount\n",
        "            print(f\"Withdrawn: {amount}\")\n",
        "        else:\n",
        "            print(\"Insufficient balance or invalid amount!\")\n",
        "\n",
        "    def check_balance(self):\n",
        "        print(f\"Current Balance: {self.__balance}\")\n",
        "\n",
        "# Example usage\n",
        "if __name__ == \"__main__\":\n",
        "    account = BankAccount(100)  # Create an account with an initial balance of 100\n",
        "    account.check_balance()  # Output: Current Balance: 100\n",
        "\n",
        "    account.deposit(50)  # Deposited: 50\n",
        "    account.check_balance()  # Output: Current Balance: 150\n",
        "\n",
        "    account.withdraw(30)  # Withdrawn: 30\n",
        "    account.check_balance()  # Output: Current Balance: 120\n",
        "\n",
        "    account.withdraw(200)  # Insufficient balance or invalid amount!"
      ],
      "metadata": {
        "colab": {
          "base_uri": "https://localhost:8080/"
        },
        "id": "akLjjzNBiGZm",
        "outputId": "61d41ad8-1f50-4f96-b61b-2f59cc5010ea"
      },
      "execution_count": null,
      "outputs": [
        {
          "output_type": "stream",
          "name": "stdout",
          "text": [
            "Current Balance: 100\n",
            "Deposited: 50\n",
            "Current Balance: 150\n",
            "Withdrawn: 30\n",
            "Current Balance: 120\n",
            "Insufficient balance or invalid amount!\n"
          ]
        }
      ]
    },
    {
      "cell_type": "code",
      "source": [
        "#Demonstrate runtime polymorphism using a method play() in a base class Instrument. Derive classes Guitar\n",
        "#and Piano that implement their own version of play().\n",
        "class Instrument:\n",
        "    def play(self):\n",
        "        raise NotImplementedError(\"Subclasses must implement this method\")\n",
        "\n",
        "class Guitar(Instrument):\n",
        "    def play(self):\n",
        "        print(\"Playing the guitar: Strum, strum!\")\n",
        "\n",
        "class Piano(Instrument):\n",
        "    def play(self):\n",
        "        print(\"Playing the piano: Plink, plink!\")\n",
        "\n",
        "# Example usage\n",
        "if __name__ == \"__main__\":\n",
        "    instruments = [Guitar(), Piano()]\n",
        "\n",
        "    for instrument in instruments:\n",
        "        instrument.play()  # Demonstrates runtime polymorphism"
      ],
      "metadata": {
        "colab": {
          "base_uri": "https://localhost:8080/"
        },
        "id": "RLVznaHmjI6D",
        "outputId": "791a6e1f-eb62-42e1-c95c-9a56257a86e3"
      },
      "execution_count": null,
      "outputs": [
        {
          "output_type": "stream",
          "name": "stdout",
          "text": [
            "Playing the guitar: Strum, strum!\n",
            "Playing the piano: Plink, plink!\n"
          ]
        }
      ]
    },
    {
      "cell_type": "code",
      "source": [
        "#Create a class MathOperations with a class method add_numbers() to add two numbers and a static\n",
        "#method subtract_numbers() to subtract two numbers.\n",
        "class MathOperations:\n",
        "\n",
        "    @classmethod\n",
        "    def add_numbers(cls, a, b):\n",
        "        return a + b\n",
        "\n",
        "    @staticmethod\n",
        "    def subtract_numbers(a, b):\n",
        "        return a - b\n",
        "\n",
        "# Example usage:\n",
        "sum_result = MathOperations.add_numbers(5, 3)  # 5 + 3 = 8\n",
        "diff_result = MathOperations.subtract_numbers(5, 3)  # 5 - 3 = 2\n",
        "\n",
        "print(\"Sum:\", sum_result)\n",
        "print(\"Difference:\", diff_result)"
      ],
      "metadata": {
        "colab": {
          "base_uri": "https://localhost:8080/"
        },
        "id": "tmO9MNC2jUcu",
        "outputId": "acbc86ba-da4a-4b2b-f460-c95bc131a9a7"
      },
      "execution_count": null,
      "outputs": [
        {
          "output_type": "stream",
          "name": "stdout",
          "text": [
            "Sum: 8\n",
            "Difference: 2\n"
          ]
        }
      ]
    },
    {
      "cell_type": "code",
      "source": [
        "# Implement a class Person with a class method to count the total number of\n",
        "# persons created.\n",
        "class Person:\n",
        "    # Class variable to count the number of Person instances\n",
        "    total_persons = 0\n",
        "\n",
        "    def __init__(self, name, age):\n",
        "        self.name = name\n",
        "        self.age = age\n",
        "        Person.total_persons += 1  # Increment count each time a new instance is created\n",
        "\n",
        "    @classmethod\n",
        "    def get_total_persons(cls):\n",
        "        return cls.total_persons\n",
        "\n",
        "# Example usage:\n",
        "person1 = Person(\"Alice\", 30)\n",
        "person2 = Person(\"Bob\", 25)\n",
        "\n",
        "print(\"Total persons created:\", Person.get_total_persons())  # Output: 2"
      ],
      "metadata": {
        "colab": {
          "base_uri": "https://localhost:8080/"
        },
        "id": "jNXy9ivXj7FF",
        "outputId": "e5287700-4a7e-4adb-f647-12057b3eec2f"
      },
      "execution_count": null,
      "outputs": [
        {
          "output_type": "stream",
          "name": "stdout",
          "text": [
            "Total persons created: 2\n"
          ]
        }
      ]
    },
    {
      "cell_type": "code",
      "source": [
        "#Write a class Fraction with attributes numerator and denominator. Override the str method to display the\n",
        "#fraction as \"numerator/denominator\".\n",
        "class Fraction:\n",
        "    def __init__(self, numerator, denominator):\n",
        "        self.numerator = numerator\n",
        "        self.denominator = denominator\n",
        "\n",
        "    def __str__(self):\n",
        "        return f\"{self.numerator}/{self.denominator}\"\n",
        "\n",
        "# Example usage:\n",
        "fraction = Fraction(3, 4)\n",
        "print(fraction)  # Output: 3/4"
      ],
      "metadata": {
        "colab": {
          "base_uri": "https://localhost:8080/"
        },
        "id": "BfJir48-kZo4",
        "outputId": "70790357-75fb-4890-9138-d98f94c91624"
      },
      "execution_count": null,
      "outputs": [
        {
          "output_type": "stream",
          "name": "stdout",
          "text": [
            "3/4\n"
          ]
        }
      ]
    },
    {
      "cell_type": "code",
      "source": [
        "#Demonstrate operator overloading by creating a class Vector and overriding the add method to add two\n",
        "#vectors.\n",
        "class Vector:\n",
        "    def __init__(self, x, y):\n",
        "        self.x = x\n",
        "        self.y = y\n",
        "\n",
        "    # Overloading the + operator\n",
        "    def __add__(self, other):\n",
        "        if isinstance(other, Vector):\n",
        "            return Vector(self.x + other.x, self.y + other.y)\n",
        "        return NotImplemented\n",
        "\n",
        "    # For a clean display of vector\n",
        "    def __str__(self):\n",
        "        return f\"({self.x}, {self.y})\"\n",
        "\n",
        "# Example usage:\n",
        "v1 = Vector(1, 2)\n",
        "v2 = Vector(3, 4)\n",
        "result = v1 + v2  # This will call the __add__ method\n",
        "print(result)  # Output: (4, 6)"
      ],
      "metadata": {
        "colab": {
          "base_uri": "https://localhost:8080/"
        },
        "id": "sKGYm2M9k8f5",
        "outputId": "13691938-ded1-4095-ffaa-c8227efb980f"
      },
      "execution_count": null,
      "outputs": [
        {
          "output_type": "stream",
          "name": "stdout",
          "text": [
            "(4, 6)\n"
          ]
        }
      ]
    },
    {
      "cell_type": "code",
      "source": [
        "#Create a class Person with attributes name and age. Add a method greet() that prints \"Hello, my name is\n",
        "#{name} and I am {age} years old.\"\n",
        "class Person:\n",
        "    def __init__(self, name, age):\n",
        "        self.name = name\n",
        "        self.age = age\n",
        "\n",
        "    def greet(self):\n",
        "        print(f\"Hello, my name is {self.name} and I am {self.age} years old.\")\n",
        "\n",
        "# Example usage:\n",
        "person = Person(\"Harsh\", 25)\n",
        "person.greet()  # Output: Hello, my name is John and I am 30 years old."
      ],
      "metadata": {
        "colab": {
          "base_uri": "https://localhost:8080/"
        },
        "id": "KPA3XhAMl30H",
        "outputId": "693faa69-5cfb-4505-ef7f-9b9c46cdefd0"
      },
      "execution_count": null,
      "outputs": [
        {
          "output_type": "stream",
          "name": "stdout",
          "text": [
            "Hello, my name is Harsh and I am 25 years old.\n"
          ]
        }
      ]
    },
    {
      "cell_type": "code",
      "source": [
        "#Implement a class Student with attributes name and grades. Create a method average_grade() to compute\n",
        "#the average of the grades.\n",
        "class Student:\n",
        "    def __init__(self, name, grades):\n",
        "        self.name = name\n",
        "        self.grades = grades\n",
        "\n",
        "    def average_grade(self):\n",
        "        if self.grades:\n",
        "            return sum(self.grades) / len(self.grades)\n",
        "        else:\n",
        "            return 0  # Return 0 if no grades are provided\n",
        "\n",
        "# Example usage:\n",
        "student = Student(\"Alice\", [85, 90, 78, 92])\n",
        "print(f\"{student.name}'s average grade is: {student.average_grade()}\")  # Output: Alice's average grade is: 86.25"
      ],
      "metadata": {
        "colab": {
          "base_uri": "https://localhost:8080/"
        },
        "id": "uV5XT2ofmPW_",
        "outputId": "d33ec8f5-2439-4007-ca2c-7dbac02df823"
      },
      "execution_count": null,
      "outputs": [
        {
          "output_type": "stream",
          "name": "stdout",
          "text": [
            "Alice's average grade is: 86.25\n"
          ]
        }
      ]
    },
    {
      "cell_type": "code",
      "source": [
        "#Create a class Rectangle with methods set_dimensions() to set the dimensions and area() to calculate the\n",
        "#area.\n",
        "class Rectangle:\n",
        "    def __init__(self):\n",
        "        self.length = 0\n",
        "        self.width = 0\n",
        "\n",
        "    def set_dimensions(self, length, width):\n",
        "        self.length = length\n",
        "        self.width = width\n",
        "\n",
        "    def area(self):\n",
        "        return self.length * self.width\n",
        "\n",
        "# Example usage:\n",
        "rectangle = Rectangle()\n",
        "rectangle.set_dimensions(5, 3)\n",
        "print(f\"Area of the rectangle: {rectangle.area()}\")  # Output: Area of the rectangle: 15"
      ],
      "metadata": {
        "colab": {
          "base_uri": "https://localhost:8080/"
        },
        "id": "RtCrolEvm7g3",
        "outputId": "b8d58c93-b2f0-48c2-f70c-d933fb730ad2"
      },
      "execution_count": null,
      "outputs": [
        {
          "output_type": "stream",
          "name": "stdout",
          "text": [
            "Area of the rectangle: 15\n"
          ]
        }
      ]
    },
    {
      "cell_type": "code",
      "source": [
        "#Create a class Employee with a method calculate_salary() that computes the salary based on hours worked\n",
        "#and hourly rate. Create a derived class Manager that adds a bonus to the salary\n",
        "class Employee:\n",
        "    def __init__(self, name, hours_worked, hourly_rate):\n",
        "        self.name = name\n",
        "        self.hours_worked = hours_worked\n",
        "        self.hourly_rate = hourly_rate\n",
        "\n",
        "    def calculate_salary(self):\n",
        "        return self.hours_worked * self.hourly_rate\n",
        "\n",
        "class Manager(Employee):\n",
        "    def __init__(self, name, hours_worked, hourly_rate, bonus):\n",
        "        super().__init__(name, hours_worked, hourly_rate)\n",
        "        self.bonus = bonus\n",
        "\n",
        "    def calculate_salary(self):\n",
        "        base_salary = super().calculate_salary()\n",
        "        return base_salary + self.bonus\n",
        "\n",
        "# Example usage:\n",
        "employee = Employee(\"John\", 40, 20)\n",
        "print(f\"{employee.name}'s salary: ${employee.calculate_salary()}\")  # Output: John's salary: $800\n",
        "\n",
        "manager = Manager(\"Jane\", 40, 25, 500)\n",
        "print(f\"{manager.name}'s salary: ${manager.calculate_salary()}\")  # Output: Jane's salary: $1500"
      ],
      "metadata": {
        "colab": {
          "base_uri": "https://localhost:8080/"
        },
        "id": "lipPcnFJnEr7",
        "outputId": "e7340b91-3366-45ac-b45d-2fb069a9447f"
      },
      "execution_count": null,
      "outputs": [
        {
          "output_type": "stream",
          "name": "stdout",
          "text": [
            "John's salary: $800\n",
            "Jane's salary: $1500\n"
          ]
        }
      ]
    },
    {
      "cell_type": "code",
      "source": [
        "#Create a class Product with attributes name, price, and quantity. Implement a method total_price() that\n",
        "#calculates the total price of the product.\n",
        "class Product:\n",
        "    def __init__(self, name, price, quantity):\n",
        "        self.name = name\n",
        "        self.price = price\n",
        "        self.quantity = quantity\n",
        "\n",
        "    def total_price(self):\n",
        "        return self.price * self.quantity\n",
        "\n",
        "# Example usage:\n",
        "product = Product(\"Laptop\", 1000, 3)\n",
        "print(f\"Total price of {product.name}: ${product.total_price()}\")  # Output: Total price of Laptop: $3000"
      ],
      "metadata": {
        "colab": {
          "base_uri": "https://localhost:8080/"
        },
        "id": "KLl35xHNncUW",
        "outputId": "05924aa7-2768-4279-cdd2-d5756e2ab6c8"
      },
      "execution_count": null,
      "outputs": [
        {
          "output_type": "stream",
          "name": "stdout",
          "text": [
            "Total price of Laptop: $3000\n"
          ]
        }
      ]
    },
    {
      "cell_type": "code",
      "source": [
        "#Create a class Animal with an abstract method sound(). Create two derived classes Cow and Sheep that\n",
        "#implement the sound() method.\n",
        "from abc import ABC, abstractmethod\n",
        "\n",
        "# Abstract base class\n",
        "class Animal(ABC):\n",
        "    @abstractmethod\n",
        "    def sound(self):\n",
        "        pass\n",
        "\n",
        "# Derived class Cow\n",
        "class Cow(Animal):\n",
        "    def sound(self):\n",
        "        return \"Moo\"\n",
        "\n",
        "# Derived class Sheep\n",
        "class Sheep(Animal):\n",
        "    def sound(self):\n",
        "        return \"Baa\"\n",
        "\n",
        "# Example usage:\n",
        "cow = Cow()\n",
        "print(f\"Cow makes sound: {cow.sound()}\")  # Output: Cow makes sound: Moo\n",
        "\n",
        "sheep = Sheep()\n",
        "print(f\"Sheep makes sound: {sheep.sound()}\")  # Output: Sheep makes sound: Baa"
      ],
      "metadata": {
        "colab": {
          "base_uri": "https://localhost:8080/"
        },
        "id": "Wz1A0aIXnstO",
        "outputId": "bc3203ac-e408-4dc3-af49-64384f15bb42"
      },
      "execution_count": null,
      "outputs": [
        {
          "output_type": "stream",
          "name": "stdout",
          "text": [
            "Cow makes sound: Moo\n",
            "Sheep makes sound: Baa\n"
          ]
        }
      ]
    },
    {
      "cell_type": "code",
      "source": [
        "#Create a class Book with attributes title, author, and year_published. Add a method get_book_info() that\n",
        "#returns a formatted string with the book's details.\n",
        "class Book:\n",
        "    def __init__(self, title, author, year_published):\n",
        "        self.title = title\n",
        "        self.author = author\n",
        "        self.year_published = year_published\n",
        "\n",
        "    def get_book_info(self):\n",
        "        return f\"Title: {self.title}\\nAuthor: {self.author}\\nYear Published: {self.year_published}\"\n",
        "\n",
        "# Example usage:\n",
        "book = Book(title=\"Crime And Punishment\", author=\"Fyodor Dostoevsky\", year_published=1866)\n",
        "print(book.get_book_info())\n"
      ],
      "metadata": {
        "colab": {
          "base_uri": "https://localhost:8080/"
        },
        "id": "GOQYhST4n6RB",
        "outputId": "40b03809-579a-4bb3-d95f-e95c9caa8445"
      },
      "execution_count": null,
      "outputs": [
        {
          "output_type": "stream",
          "name": "stdout",
          "text": [
            "Title: Crime And Punishment\n",
            "Author: Fyodor Dostoevsky\n",
            "Year Published: 1866\n"
          ]
        }
      ]
    },
    {
      "cell_type": "code",
      "source": [
        "#Create a class House with attributes address and price. Create a derived class Mansion that adds an\n",
        "#attribute number_of_rooms.\n",
        "class House:\n",
        "    def __init__(self, address, price):\n",
        "        self.address = address\n",
        "        self.price = price\n",
        "\n",
        "    def get_details(self):\n",
        "        return f\"Address: {self.address}\\nPrice: ${self.price}\"\n",
        "\n",
        "# Derived class Mansion\n",
        "class Mansion(House):\n",
        "    def __init__(self, address, price, number_of_rooms):\n",
        "        super().__init__(address, price)  # Initialize attributes of the House class\n",
        "        self.number_of_rooms = number_of_rooms\n",
        "\n",
        "    def get_details(self):\n",
        "        base_details = super().get_details()  # Get details from House class\n",
        "        return f\"{base_details}\\nNumber of Rooms: {self.number_of_rooms}\"\n",
        "\n",
        "# Example usage:\n",
        "house = House(\"123 Main St\", 250000)\n",
        "print(\"House Details:\")\n",
        "print(house.get_details())\n",
        "print()\n",
        "\n",
        "mansion = Mansion(\"456 Luxury Ave\", 5000000, 15)\n",
        "print(\"Mansion Details:\")\n",
        "print(mansion.get_details())"
      ],
      "metadata": {
        "colab": {
          "base_uri": "https://localhost:8080/"
        },
        "id": "qsEhq9Kiofhw",
        "outputId": "7d7b4afd-8f37-4705-f0b9-ca41f1088282"
      },
      "execution_count": null,
      "outputs": [
        {
          "output_type": "stream",
          "name": "stdout",
          "text": [
            "House Details:\n",
            "Address: 123 Main St\n",
            "Price: $250000\n",
            "\n",
            "Mansion Details:\n",
            "Address: 456 Luxury Ave\n",
            "Price: $5000000\n",
            "Number of Rooms: 15\n"
          ]
        }
      ]
    }
  ]
}